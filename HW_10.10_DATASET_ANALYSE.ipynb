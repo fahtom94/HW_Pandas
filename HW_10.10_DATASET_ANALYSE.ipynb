{
 "cells": [
  {
   "cell_type": "code",
   "execution_count": 1,
   "id": "a7f18767",
   "metadata": {},
   "outputs": [
    {
     "name": "stdout",
     "output_type": "stream",
     "text": [
      "HW_10.10_DATASET_ANALYSE.ipynb  \u001b[1m\u001b[36mdata\u001b[m\u001b[m/\r\n"
     ]
    }
   ],
   "source": [
    "ls"
   ]
  },
  {
   "cell_type": "code",
   "execution_count": 2,
   "id": "f1b207e2",
   "metadata": {},
   "outputs": [
    {
     "name": "stdout",
     "output_type": "stream",
     "text": [
      "\u001b[1m\u001b[36mriiid-test-answer-prediction\u001b[m\u001b[m/     riiid-test-answer-prediction.zip\r\n"
     ]
    }
   ],
   "source": [
    "ls ./data/"
   ]
  },
  {
   "cell_type": "code",
   "execution_count": 3,
   "id": "80f79a44",
   "metadata": {},
   "outputs": [
    {
     "name": "stdout",
     "output_type": "stream",
     "text": [
      "Requirement already satisfied: pandas in /Users/alexandrmakarov/opt/anaconda3/lib/python3.9/site-packages (1.4.2)\n",
      "Requirement already satisfied: python-dateutil>=2.8.1 in /Users/alexandrmakarov/opt/anaconda3/lib/python3.9/site-packages (from pandas) (2.8.2)\n",
      "Requirement already satisfied: pytz>=2020.1 in /Users/alexandrmakarov/opt/anaconda3/lib/python3.9/site-packages (from pandas) (2021.3)\n",
      "Requirement already satisfied: numpy>=1.18.5 in /Users/alexandrmakarov/opt/anaconda3/lib/python3.9/site-packages (from pandas) (1.21.5)\n",
      "Requirement already satisfied: six>=1.5 in /Users/alexandrmakarov/opt/anaconda3/lib/python3.9/site-packages (from python-dateutil>=2.8.1->pandas) (1.16.0)\n",
      "Note: you may need to restart the kernel to use updated packages.\n"
     ]
    }
   ],
   "source": [
    "pip install pandas"
   ]
  },
  {
   "cell_type": "code",
   "execution_count": 4,
   "id": "000a9474",
   "metadata": {},
   "outputs": [],
   "source": [
    "import pandas as pd"
   ]
  },
  {
   "cell_type": "markdown",
   "id": "b3f1bdba",
   "metadata": {},
   "source": [
    "## Проверяем какие данные хранятся в таблице"
   ]
  },
  {
   "cell_type": "code",
   "execution_count": 19,
   "id": "219fc26f",
   "metadata": {},
   "outputs": [
    {
     "data": {
      "text/html": [
       "<div>\n",
       "<style scoped>\n",
       "    .dataframe tbody tr th:only-of-type {\n",
       "        vertical-align: middle;\n",
       "    }\n",
       "\n",
       "    .dataframe tbody tr th {\n",
       "        vertical-align: top;\n",
       "    }\n",
       "\n",
       "    .dataframe thead th {\n",
       "        text-align: right;\n",
       "    }\n",
       "</style>\n",
       "<table border=\"1\" class=\"dataframe\">\n",
       "  <thead>\n",
       "    <tr style=\"text-align: right;\">\n",
       "      <th></th>\n",
       "      <th>row_id</th>\n",
       "      <th>timestamp</th>\n",
       "      <th>user_id</th>\n",
       "      <th>content_id</th>\n",
       "      <th>content_type_id</th>\n",
       "      <th>task_container_id</th>\n",
       "      <th>user_answer</th>\n",
       "      <th>answered_correctly</th>\n",
       "      <th>prior_question_elapsed_time</th>\n",
       "      <th>prior_question_had_explanation</th>\n",
       "    </tr>\n",
       "  </thead>\n",
       "  <tbody>\n",
       "    <tr>\n",
       "      <th>0</th>\n",
       "      <td>0</td>\n",
       "      <td>0</td>\n",
       "      <td>115</td>\n",
       "      <td>5692</td>\n",
       "      <td>0</td>\n",
       "      <td>1</td>\n",
       "      <td>3</td>\n",
       "      <td>1</td>\n",
       "      <td>NaN</td>\n",
       "      <td>NaN</td>\n",
       "    </tr>\n",
       "    <tr>\n",
       "      <th>1</th>\n",
       "      <td>1</td>\n",
       "      <td>56943</td>\n",
       "      <td>115</td>\n",
       "      <td>5716</td>\n",
       "      <td>0</td>\n",
       "      <td>2</td>\n",
       "      <td>2</td>\n",
       "      <td>1</td>\n",
       "      <td>37000.0</td>\n",
       "      <td>False</td>\n",
       "    </tr>\n",
       "    <tr>\n",
       "      <th>2</th>\n",
       "      <td>2</td>\n",
       "      <td>118363</td>\n",
       "      <td>115</td>\n",
       "      <td>128</td>\n",
       "      <td>0</td>\n",
       "      <td>0</td>\n",
       "      <td>0</td>\n",
       "      <td>1</td>\n",
       "      <td>55000.0</td>\n",
       "      <td>False</td>\n",
       "    </tr>\n",
       "    <tr>\n",
       "      <th>3</th>\n",
       "      <td>3</td>\n",
       "      <td>131167</td>\n",
       "      <td>115</td>\n",
       "      <td>7860</td>\n",
       "      <td>0</td>\n",
       "      <td>3</td>\n",
       "      <td>0</td>\n",
       "      <td>1</td>\n",
       "      <td>19000.0</td>\n",
       "      <td>False</td>\n",
       "    </tr>\n",
       "    <tr>\n",
       "      <th>4</th>\n",
       "      <td>4</td>\n",
       "      <td>137965</td>\n",
       "      <td>115</td>\n",
       "      <td>7922</td>\n",
       "      <td>0</td>\n",
       "      <td>4</td>\n",
       "      <td>1</td>\n",
       "      <td>1</td>\n",
       "      <td>11000.0</td>\n",
       "      <td>False</td>\n",
       "    </tr>\n",
       "    <tr>\n",
       "      <th>...</th>\n",
       "      <td>...</td>\n",
       "      <td>...</td>\n",
       "      <td>...</td>\n",
       "      <td>...</td>\n",
       "      <td>...</td>\n",
       "      <td>...</td>\n",
       "      <td>...</td>\n",
       "      <td>...</td>\n",
       "      <td>...</td>\n",
       "      <td>...</td>\n",
       "    </tr>\n",
       "    <tr>\n",
       "      <th>95</th>\n",
       "      <td>95</td>\n",
       "      <td>835457</td>\n",
       "      <td>2746</td>\n",
       "      <td>484</td>\n",
       "      <td>0</td>\n",
       "      <td>19</td>\n",
       "      <td>0</td>\n",
       "      <td>1</td>\n",
       "      <td>20000.0</td>\n",
       "      <td>True</td>\n",
       "    </tr>\n",
       "    <tr>\n",
       "      <th>96</th>\n",
       "      <td>96</td>\n",
       "      <td>0</td>\n",
       "      <td>5382</td>\n",
       "      <td>5000</td>\n",
       "      <td>0</td>\n",
       "      <td>0</td>\n",
       "      <td>0</td>\n",
       "      <td>1</td>\n",
       "      <td>NaN</td>\n",
       "      <td>NaN</td>\n",
       "    </tr>\n",
       "    <tr>\n",
       "      <th>97</th>\n",
       "      <td>97</td>\n",
       "      <td>39828</td>\n",
       "      <td>5382</td>\n",
       "      <td>3944</td>\n",
       "      <td>0</td>\n",
       "      <td>1</td>\n",
       "      <td>1</td>\n",
       "      <td>0</td>\n",
       "      <td>24000.0</td>\n",
       "      <td>False</td>\n",
       "    </tr>\n",
       "    <tr>\n",
       "      <th>98</th>\n",
       "      <td>98</td>\n",
       "      <td>132189</td>\n",
       "      <td>5382</td>\n",
       "      <td>217</td>\n",
       "      <td>0</td>\n",
       "      <td>2</td>\n",
       "      <td>0</td>\n",
       "      <td>1</td>\n",
       "      <td>35000.0</td>\n",
       "      <td>False</td>\n",
       "    </tr>\n",
       "    <tr>\n",
       "      <th>99</th>\n",
       "      <td>99</td>\n",
       "      <td>153727</td>\n",
       "      <td>5382</td>\n",
       "      <td>5844</td>\n",
       "      <td>0</td>\n",
       "      <td>3</td>\n",
       "      <td>1</td>\n",
       "      <td>0</td>\n",
       "      <td>88000.0</td>\n",
       "      <td>False</td>\n",
       "    </tr>\n",
       "  </tbody>\n",
       "</table>\n",
       "<p>100 rows × 10 columns</p>\n",
       "</div>"
      ],
      "text/plain": [
       "    row_id  timestamp  user_id  content_id  content_type_id  \\\n",
       "0        0          0      115        5692                0   \n",
       "1        1      56943      115        5716                0   \n",
       "2        2     118363      115         128                0   \n",
       "3        3     131167      115        7860                0   \n",
       "4        4     137965      115        7922                0   \n",
       "..     ...        ...      ...         ...              ...   \n",
       "95      95     835457     2746         484                0   \n",
       "96      96          0     5382        5000                0   \n",
       "97      97      39828     5382        3944                0   \n",
       "98      98     132189     5382         217                0   \n",
       "99      99     153727     5382        5844                0   \n",
       "\n",
       "    task_container_id  user_answer  answered_correctly  \\\n",
       "0                   1            3                   1   \n",
       "1                   2            2                   1   \n",
       "2                   0            0                   1   \n",
       "3                   3            0                   1   \n",
       "4                   4            1                   1   \n",
       "..                ...          ...                 ...   \n",
       "95                 19            0                   1   \n",
       "96                  0            0                   1   \n",
       "97                  1            1                   0   \n",
       "98                  2            0                   1   \n",
       "99                  3            1                   0   \n",
       "\n",
       "    prior_question_elapsed_time prior_question_had_explanation  \n",
       "0                           NaN                            NaN  \n",
       "1                       37000.0                          False  \n",
       "2                       55000.0                          False  \n",
       "3                       19000.0                          False  \n",
       "4                       11000.0                          False  \n",
       "..                          ...                            ...  \n",
       "95                      20000.0                           True  \n",
       "96                          NaN                            NaN  \n",
       "97                      24000.0                          False  \n",
       "98                      35000.0                          False  \n",
       "99                      88000.0                          False  \n",
       "\n",
       "[100 rows x 10 columns]"
      ]
     },
     "execution_count": 19,
     "metadata": {},
     "output_type": "execute_result"
    }
   ],
   "source": [
    "reader = pd.read_csv('data/train.csv', iterator=True, chunksize=512)\n",
    "reader.get_chunk(100)"
   ]
  },
  {
   "cell_type": "code",
   "execution_count": 20,
   "id": "ad6a13d4",
   "metadata": {},
   "outputs": [],
   "source": [
    "train_dt = pd.read_csv('data/train.csv', usecols=['timestamp', 'user_id', 'content_id', 'content_type_id', 'answered_correctly', 'prior_question_elapsed_time', 'prior_question_had_explanation'])"
   ]
  },
  {
   "cell_type": "code",
   "execution_count": 22,
   "id": "a121a5b7",
   "metadata": {},
   "outputs": [
    {
     "data": {
      "text/plain": [
       "101230332"
      ]
     },
     "execution_count": 22,
     "metadata": {},
     "output_type": "execute_result"
    }
   ],
   "source": [
    "train_dt.shape[0]"
   ]
  },
  {
   "cell_type": "code",
   "execution_count": 24,
   "id": "b54eb710",
   "metadata": {},
   "outputs": [],
   "source": [
    "question_dt = pd.read_csv('data/questions.csv')"
   ]
  },
  {
   "cell_type": "code",
   "execution_count": 25,
   "id": "bfa80a12",
   "metadata": {},
   "outputs": [
    {
     "data": {
      "text/html": [
       "<div>\n",
       "<style scoped>\n",
       "    .dataframe tbody tr th:only-of-type {\n",
       "        vertical-align: middle;\n",
       "    }\n",
       "\n",
       "    .dataframe tbody tr th {\n",
       "        vertical-align: top;\n",
       "    }\n",
       "\n",
       "    .dataframe thead th {\n",
       "        text-align: right;\n",
       "    }\n",
       "</style>\n",
       "<table border=\"1\" class=\"dataframe\">\n",
       "  <thead>\n",
       "    <tr style=\"text-align: right;\">\n",
       "      <th></th>\n",
       "      <th>question_id</th>\n",
       "      <th>bundle_id</th>\n",
       "      <th>correct_answer</th>\n",
       "      <th>part</th>\n",
       "      <th>tags</th>\n",
       "    </tr>\n",
       "  </thead>\n",
       "  <tbody>\n",
       "    <tr>\n",
       "      <th>0</th>\n",
       "      <td>0</td>\n",
       "      <td>0</td>\n",
       "      <td>0</td>\n",
       "      <td>1</td>\n",
       "      <td>51 131 162 38</td>\n",
       "    </tr>\n",
       "    <tr>\n",
       "      <th>1</th>\n",
       "      <td>1</td>\n",
       "      <td>1</td>\n",
       "      <td>1</td>\n",
       "      <td>1</td>\n",
       "      <td>131 36 81</td>\n",
       "    </tr>\n",
       "    <tr>\n",
       "      <th>2</th>\n",
       "      <td>2</td>\n",
       "      <td>2</td>\n",
       "      <td>0</td>\n",
       "      <td>1</td>\n",
       "      <td>131 101 162 92</td>\n",
       "    </tr>\n",
       "    <tr>\n",
       "      <th>3</th>\n",
       "      <td>3</td>\n",
       "      <td>3</td>\n",
       "      <td>0</td>\n",
       "      <td>1</td>\n",
       "      <td>131 149 162 29</td>\n",
       "    </tr>\n",
       "    <tr>\n",
       "      <th>4</th>\n",
       "      <td>4</td>\n",
       "      <td>4</td>\n",
       "      <td>3</td>\n",
       "      <td>1</td>\n",
       "      <td>131 5 162 38</td>\n",
       "    </tr>\n",
       "  </tbody>\n",
       "</table>\n",
       "</div>"
      ],
      "text/plain": [
       "   question_id  bundle_id  correct_answer  part            tags\n",
       "0            0          0               0     1   51 131 162 38\n",
       "1            1          1               1     1       131 36 81\n",
       "2            2          2               0     1  131 101 162 92\n",
       "3            3          3               0     1  131 149 162 29\n",
       "4            4          4               3     1    131 5 162 38"
      ]
     },
     "execution_count": 25,
     "metadata": {},
     "output_type": "execute_result"
    }
   ],
   "source": [
    "question_dt.head()"
   ]
  },
  {
   "cell_type": "code",
   "execution_count": 26,
   "id": "c3c1ad7d",
   "metadata": {},
   "outputs": [
    {
     "data": {
      "text/plain": [
       "13523"
      ]
     },
     "execution_count": 26,
     "metadata": {},
     "output_type": "execute_result"
    }
   ],
   "source": [
    "question_dt.shape[0]"
   ]
  },
  {
   "cell_type": "code",
   "execution_count": 27,
   "id": "14d796b9",
   "metadata": {},
   "outputs": [],
   "source": [
    "lectures_dt = pd.read_csv('data/lectures.csv')"
   ]
  },
  {
   "cell_type": "code",
   "execution_count": 28,
   "id": "d576e062",
   "metadata": {},
   "outputs": [
    {
     "data": {
      "text/html": [
       "<div>\n",
       "<style scoped>\n",
       "    .dataframe tbody tr th:only-of-type {\n",
       "        vertical-align: middle;\n",
       "    }\n",
       "\n",
       "    .dataframe tbody tr th {\n",
       "        vertical-align: top;\n",
       "    }\n",
       "\n",
       "    .dataframe thead th {\n",
       "        text-align: right;\n",
       "    }\n",
       "</style>\n",
       "<table border=\"1\" class=\"dataframe\">\n",
       "  <thead>\n",
       "    <tr style=\"text-align: right;\">\n",
       "      <th></th>\n",
       "      <th>lecture_id</th>\n",
       "      <th>tag</th>\n",
       "      <th>part</th>\n",
       "      <th>type_of</th>\n",
       "    </tr>\n",
       "  </thead>\n",
       "  <tbody>\n",
       "    <tr>\n",
       "      <th>0</th>\n",
       "      <td>89</td>\n",
       "      <td>159</td>\n",
       "      <td>5</td>\n",
       "      <td>concept</td>\n",
       "    </tr>\n",
       "    <tr>\n",
       "      <th>1</th>\n",
       "      <td>100</td>\n",
       "      <td>70</td>\n",
       "      <td>1</td>\n",
       "      <td>concept</td>\n",
       "    </tr>\n",
       "    <tr>\n",
       "      <th>2</th>\n",
       "      <td>185</td>\n",
       "      <td>45</td>\n",
       "      <td>6</td>\n",
       "      <td>concept</td>\n",
       "    </tr>\n",
       "    <tr>\n",
       "      <th>3</th>\n",
       "      <td>192</td>\n",
       "      <td>79</td>\n",
       "      <td>5</td>\n",
       "      <td>solving question</td>\n",
       "    </tr>\n",
       "    <tr>\n",
       "      <th>4</th>\n",
       "      <td>317</td>\n",
       "      <td>156</td>\n",
       "      <td>5</td>\n",
       "      <td>solving question</td>\n",
       "    </tr>\n",
       "  </tbody>\n",
       "</table>\n",
       "</div>"
      ],
      "text/plain": [
       "   lecture_id  tag  part           type_of\n",
       "0          89  159     5           concept\n",
       "1         100   70     1           concept\n",
       "2         185   45     6           concept\n",
       "3         192   79     5  solving question\n",
       "4         317  156     5  solving question"
      ]
     },
     "execution_count": 28,
     "metadata": {},
     "output_type": "execute_result"
    }
   ],
   "source": [
    "lectures_dt.head()"
   ]
  },
  {
   "cell_type": "code",
   "execution_count": 29,
   "id": "45647497",
   "metadata": {},
   "outputs": [],
   "source": [
    "train_dt_copy = train_dt.copy()"
   ]
  },
  {
   "cell_type": "markdown",
   "id": "7ba1c979",
   "metadata": {},
   "source": [
    "## Подготовка данных"
   ]
  },
  {
   "cell_type": "code",
   "execution_count": 31,
   "id": "0ed819b2",
   "metadata": {},
   "outputs": [
    {
     "name": "stdout",
     "output_type": "stream",
     "text": [
      "<class 'pandas.core.frame.DataFrame'>\n",
      "RangeIndex: 101230332 entries, 0 to 101230331\n",
      "Data columns (total 7 columns):\n",
      " #   Column                          Dtype  \n",
      "---  ------                          -----  \n",
      " 0   timestamp                       int64  \n",
      " 1   user_id                         int64  \n",
      " 2   content_id                      int64  \n",
      " 3   content_type_id                 int64  \n",
      " 4   answered_correctly              int64  \n",
      " 5   prior_question_elapsed_time     float64\n",
      " 6   prior_question_had_explanation  object \n",
      "dtypes: float64(1), int64(5), object(1)\n",
      "memory usage: 5.3+ GB\n"
     ]
    }
   ],
   "source": [
    "train_dt_copy.info()"
   ]
  },
  {
   "cell_type": "markdown",
   "id": "aa16c73a",
   "metadata": {},
   "source": [
    "#### Преобразуем колонку timestamp в более наглядное представление"
   ]
  },
  {
   "cell_type": "code",
   "execution_count": 42,
   "id": "801ad2b4",
   "metadata": {},
   "outputs": [
    {
     "data": {
      "text/html": [
       "<div>\n",
       "<style scoped>\n",
       "    .dataframe tbody tr th:only-of-type {\n",
       "        vertical-align: middle;\n",
       "    }\n",
       "\n",
       "    .dataframe tbody tr th {\n",
       "        vertical-align: top;\n",
       "    }\n",
       "\n",
       "    .dataframe thead th {\n",
       "        text-align: right;\n",
       "    }\n",
       "</style>\n",
       "<table border=\"1\" class=\"dataframe\">\n",
       "  <thead>\n",
       "    <tr style=\"text-align: right;\">\n",
       "      <th></th>\n",
       "      <th>timestamp</th>\n",
       "      <th>user_id</th>\n",
       "      <th>content_id</th>\n",
       "      <th>content_type_id</th>\n",
       "      <th>answered_correctly</th>\n",
       "      <th>prior_question_elapsed_time</th>\n",
       "      <th>prior_question_had_explanation</th>\n",
       "    </tr>\n",
       "  </thead>\n",
       "  <tbody>\n",
       "    <tr>\n",
       "      <th>0</th>\n",
       "      <td>0</td>\n",
       "      <td>115</td>\n",
       "      <td>5692</td>\n",
       "      <td>0</td>\n",
       "      <td>1</td>\n",
       "      <td>NaN</td>\n",
       "      <td>NaN</td>\n",
       "    </tr>\n",
       "    <tr>\n",
       "      <th>1</th>\n",
       "      <td>56943</td>\n",
       "      <td>115</td>\n",
       "      <td>5716</td>\n",
       "      <td>0</td>\n",
       "      <td>1</td>\n",
       "      <td>37000.0</td>\n",
       "      <td>False</td>\n",
       "    </tr>\n",
       "    <tr>\n",
       "      <th>2</th>\n",
       "      <td>118363</td>\n",
       "      <td>115</td>\n",
       "      <td>128</td>\n",
       "      <td>0</td>\n",
       "      <td>1</td>\n",
       "      <td>55000.0</td>\n",
       "      <td>False</td>\n",
       "    </tr>\n",
       "    <tr>\n",
       "      <th>3</th>\n",
       "      <td>131167</td>\n",
       "      <td>115</td>\n",
       "      <td>7860</td>\n",
       "      <td>0</td>\n",
       "      <td>1</td>\n",
       "      <td>19000.0</td>\n",
       "      <td>False</td>\n",
       "    </tr>\n",
       "    <tr>\n",
       "      <th>4</th>\n",
       "      <td>137965</td>\n",
       "      <td>115</td>\n",
       "      <td>7922</td>\n",
       "      <td>0</td>\n",
       "      <td>1</td>\n",
       "      <td>11000.0</td>\n",
       "      <td>False</td>\n",
       "    </tr>\n",
       "  </tbody>\n",
       "</table>\n",
       "</div>"
      ],
      "text/plain": [
       "   timestamp  user_id  content_id  content_type_id  answered_correctly  \\\n",
       "0          0      115        5692                0                   1   \n",
       "1      56943      115        5716                0                   1   \n",
       "2     118363      115         128                0                   1   \n",
       "3     131167      115        7860                0                   1   \n",
       "4     137965      115        7922                0                   1   \n",
       "\n",
       "   prior_question_elapsed_time prior_question_had_explanation  \n",
       "0                          NaN                            NaN  \n",
       "1                      37000.0                          False  \n",
       "2                      55000.0                          False  \n",
       "3                      19000.0                          False  \n",
       "4                      11000.0                          False  "
      ]
     },
     "execution_count": 42,
     "metadata": {},
     "output_type": "execute_result"
    }
   ],
   "source": [
    "train_dt_copy.head()"
   ]
  },
  {
   "cell_type": "code",
   "execution_count": 44,
   "id": "6d4c23eb",
   "metadata": {},
   "outputs": [],
   "source": [
    "train_dt_copy['seconds solution time'] = round(train_dt_copy['timestamp'] / 1000)"
   ]
  },
  {
   "cell_type": "code",
   "execution_count": 46,
   "id": "0370dd63",
   "metadata": {},
   "outputs": [],
   "source": [
    "train_dt_copy = train_dt_copy.drop('timestamp', axis = 1)"
   ]
  },
  {
   "cell_type": "markdown",
   "id": "81b9f33f",
   "metadata": {},
   "source": [
    "### Для удобства замаппим тип контента на названия: Lecture / Question"
   ]
  },
  {
   "cell_type": "code",
   "execution_count": 52,
   "id": "f7427de5",
   "metadata": {},
   "outputs": [],
   "source": [
    "train_dt_copy['content type'] = train_dt_copy['content_type_id'].apply(lambda x: 'lecture' if x==1 else 'question')"
   ]
  },
  {
   "cell_type": "code",
   "execution_count": 58,
   "id": "3b85cb98",
   "metadata": {},
   "outputs": [
    {
     "data": {
      "text/html": [
       "<div>\n",
       "<style scoped>\n",
       "    .dataframe tbody tr th:only-of-type {\n",
       "        vertical-align: middle;\n",
       "    }\n",
       "\n",
       "    .dataframe tbody tr th {\n",
       "        vertical-align: top;\n",
       "    }\n",
       "\n",
       "    .dataframe thead th {\n",
       "        text-align: right;\n",
       "    }\n",
       "</style>\n",
       "<table border=\"1\" class=\"dataframe\">\n",
       "  <thead>\n",
       "    <tr style=\"text-align: right;\">\n",
       "      <th></th>\n",
       "      <th>user_id</th>\n",
       "      <th>content_id</th>\n",
       "      <th>content_type_id</th>\n",
       "      <th>answered_correctly</th>\n",
       "      <th>prior_question_elapsed_time</th>\n",
       "      <th>prior_question_had_explanation</th>\n",
       "      <th>seconds solution time</th>\n",
       "      <th>content type</th>\n",
       "    </tr>\n",
       "  </thead>\n",
       "  <tbody>\n",
       "    <tr>\n",
       "      <th>0</th>\n",
       "      <td>115</td>\n",
       "      <td>5692</td>\n",
       "      <td>0</td>\n",
       "      <td>1</td>\n",
       "      <td>NaN</td>\n",
       "      <td>NaN</td>\n",
       "      <td>0.0</td>\n",
       "      <td>question</td>\n",
       "    </tr>\n",
       "    <tr>\n",
       "      <th>1</th>\n",
       "      <td>115</td>\n",
       "      <td>5716</td>\n",
       "      <td>0</td>\n",
       "      <td>1</td>\n",
       "      <td>37000.0</td>\n",
       "      <td>False</td>\n",
       "      <td>57.0</td>\n",
       "      <td>question</td>\n",
       "    </tr>\n",
       "    <tr>\n",
       "      <th>2</th>\n",
       "      <td>115</td>\n",
       "      <td>128</td>\n",
       "      <td>0</td>\n",
       "      <td>1</td>\n",
       "      <td>55000.0</td>\n",
       "      <td>False</td>\n",
       "      <td>118.0</td>\n",
       "      <td>question</td>\n",
       "    </tr>\n",
       "    <tr>\n",
       "      <th>3</th>\n",
       "      <td>115</td>\n",
       "      <td>7860</td>\n",
       "      <td>0</td>\n",
       "      <td>1</td>\n",
       "      <td>19000.0</td>\n",
       "      <td>False</td>\n",
       "      <td>131.0</td>\n",
       "      <td>question</td>\n",
       "    </tr>\n",
       "    <tr>\n",
       "      <th>4</th>\n",
       "      <td>115</td>\n",
       "      <td>7922</td>\n",
       "      <td>0</td>\n",
       "      <td>1</td>\n",
       "      <td>11000.0</td>\n",
       "      <td>False</td>\n",
       "      <td>138.0</td>\n",
       "      <td>question</td>\n",
       "    </tr>\n",
       "    <tr>\n",
       "      <th>...</th>\n",
       "      <td>...</td>\n",
       "      <td>...</td>\n",
       "      <td>...</td>\n",
       "      <td>...</td>\n",
       "      <td>...</td>\n",
       "      <td>...</td>\n",
       "      <td>...</td>\n",
       "      <td>...</td>\n",
       "    </tr>\n",
       "    <tr>\n",
       "      <th>1014</th>\n",
       "      <td>13134</td>\n",
       "      <td>8740</td>\n",
       "      <td>0</td>\n",
       "      <td>1</td>\n",
       "      <td>4000.0</td>\n",
       "      <td>True</td>\n",
       "      <td>15094542.0</td>\n",
       "      <td>question</td>\n",
       "    </tr>\n",
       "    <tr>\n",
       "      <th>1015</th>\n",
       "      <td>13134</td>\n",
       "      <td>5223</td>\n",
       "      <td>0</td>\n",
       "      <td>0</td>\n",
       "      <td>6000.0</td>\n",
       "      <td>True</td>\n",
       "      <td>15094575.0</td>\n",
       "      <td>question</td>\n",
       "    </tr>\n",
       "    <tr>\n",
       "      <th>1016</th>\n",
       "      <td>13134</td>\n",
       "      <td>6091</td>\n",
       "      <td>0</td>\n",
       "      <td>1</td>\n",
       "      <td>14000.0</td>\n",
       "      <td>True</td>\n",
       "      <td>15094590.0</td>\n",
       "      <td>question</td>\n",
       "    </tr>\n",
       "    <tr>\n",
       "      <th>1017</th>\n",
       "      <td>13134</td>\n",
       "      <td>9237</td>\n",
       "      <td>0</td>\n",
       "      <td>1</td>\n",
       "      <td>6000.0</td>\n",
       "      <td>True</td>\n",
       "      <td>15094616.0</td>\n",
       "      <td>question</td>\n",
       "    </tr>\n",
       "    <tr>\n",
       "      <th>1018</th>\n",
       "      <td>13134</td>\n",
       "      <td>8606</td>\n",
       "      <td>0</td>\n",
       "      <td>1</td>\n",
       "      <td>17000.0</td>\n",
       "      <td>True</td>\n",
       "      <td>15094635.0</td>\n",
       "      <td>question</td>\n",
       "    </tr>\n",
       "  </tbody>\n",
       "</table>\n",
       "<p>1000 rows × 8 columns</p>\n",
       "</div>"
      ],
      "text/plain": [
       "      user_id  content_id  content_type_id  answered_correctly  \\\n",
       "0         115        5692                0                   1   \n",
       "1         115        5716                0                   1   \n",
       "2         115         128                0                   1   \n",
       "3         115        7860                0                   1   \n",
       "4         115        7922                0                   1   \n",
       "...       ...         ...              ...                 ...   \n",
       "1014    13134        8740                0                   1   \n",
       "1015    13134        5223                0                   0   \n",
       "1016    13134        6091                0                   1   \n",
       "1017    13134        9237                0                   1   \n",
       "1018    13134        8606                0                   1   \n",
       "\n",
       "      prior_question_elapsed_time prior_question_had_explanation  \\\n",
       "0                             NaN                            NaN   \n",
       "1                         37000.0                          False   \n",
       "2                         55000.0                          False   \n",
       "3                         19000.0                          False   \n",
       "4                         11000.0                          False   \n",
       "...                           ...                            ...   \n",
       "1014                       4000.0                           True   \n",
       "1015                       6000.0                           True   \n",
       "1016                      14000.0                           True   \n",
       "1017                       6000.0                           True   \n",
       "1018                      17000.0                           True   \n",
       "\n",
       "      seconds solution time content type  \n",
       "0                       0.0     question  \n",
       "1                      57.0     question  \n",
       "2                     118.0     question  \n",
       "3                     131.0     question  \n",
       "4                     138.0     question  \n",
       "...                     ...          ...  \n",
       "1014             15094542.0     question  \n",
       "1015             15094575.0     question  \n",
       "1016             15094590.0     question  \n",
       "1017             15094616.0     question  \n",
       "1018             15094635.0     question  \n",
       "\n",
       "[1000 rows x 8 columns]"
      ]
     },
     "execution_count": 58,
     "metadata": {},
     "output_type": "execute_result"
    }
   ],
   "source": [
    "train_dt_copy[train_dt_copy['content type'] == 'question'].head(1000)"
   ]
  },
  {
   "cell_type": "markdown",
   "id": "9fafc805",
   "metadata": {},
   "source": [
    "### Удалим ненужные строки"
   ]
  },
  {
   "cell_type": "code",
   "execution_count": 70,
   "id": "708cc5ab",
   "metadata": {},
   "outputs": [],
   "source": [
    "train_dt_copy = train_dt_copy.drop('content_type_id', axis = 1)"
   ]
  },
  {
   "cell_type": "code",
   "execution_count": 72,
   "id": "26a6a21b",
   "metadata": {},
   "outputs": [
    {
     "data": {
      "text/html": [
       "<div>\n",
       "<style scoped>\n",
       "    .dataframe tbody tr th:only-of-type {\n",
       "        vertical-align: middle;\n",
       "    }\n",
       "\n",
       "    .dataframe tbody tr th {\n",
       "        vertical-align: top;\n",
       "    }\n",
       "\n",
       "    .dataframe thead th {\n",
       "        text-align: right;\n",
       "    }\n",
       "</style>\n",
       "<table border=\"1\" class=\"dataframe\">\n",
       "  <thead>\n",
       "    <tr style=\"text-align: right;\">\n",
       "      <th></th>\n",
       "      <th>user_id</th>\n",
       "      <th>content_id</th>\n",
       "      <th>answered_correctly</th>\n",
       "      <th>prior_question_elapsed_time</th>\n",
       "      <th>prior_question_had_explanation</th>\n",
       "      <th>seconds solution time</th>\n",
       "      <th>content type</th>\n",
       "    </tr>\n",
       "  </thead>\n",
       "  <tbody>\n",
       "    <tr>\n",
       "      <th>0</th>\n",
       "      <td>115</td>\n",
       "      <td>5692</td>\n",
       "      <td>1</td>\n",
       "      <td>NaN</td>\n",
       "      <td>NaN</td>\n",
       "      <td>0.0</td>\n",
       "      <td>question</td>\n",
       "    </tr>\n",
       "    <tr>\n",
       "      <th>1</th>\n",
       "      <td>115</td>\n",
       "      <td>5716</td>\n",
       "      <td>1</td>\n",
       "      <td>37000.0</td>\n",
       "      <td>False</td>\n",
       "      <td>57.0</td>\n",
       "      <td>question</td>\n",
       "    </tr>\n",
       "    <tr>\n",
       "      <th>2</th>\n",
       "      <td>115</td>\n",
       "      <td>128</td>\n",
       "      <td>1</td>\n",
       "      <td>55000.0</td>\n",
       "      <td>False</td>\n",
       "      <td>118.0</td>\n",
       "      <td>question</td>\n",
       "    </tr>\n",
       "    <tr>\n",
       "      <th>3</th>\n",
       "      <td>115</td>\n",
       "      <td>7860</td>\n",
       "      <td>1</td>\n",
       "      <td>19000.0</td>\n",
       "      <td>False</td>\n",
       "      <td>131.0</td>\n",
       "      <td>question</td>\n",
       "    </tr>\n",
       "    <tr>\n",
       "      <th>4</th>\n",
       "      <td>115</td>\n",
       "      <td>7922</td>\n",
       "      <td>1</td>\n",
       "      <td>11000.0</td>\n",
       "      <td>False</td>\n",
       "      <td>138.0</td>\n",
       "      <td>question</td>\n",
       "    </tr>\n",
       "  </tbody>\n",
       "</table>\n",
       "</div>"
      ],
      "text/plain": [
       "   user_id  content_id  answered_correctly  prior_question_elapsed_time  \\\n",
       "0      115        5692                   1                          NaN   \n",
       "1      115        5716                   1                      37000.0   \n",
       "2      115         128                   1                      55000.0   \n",
       "3      115        7860                   1                      19000.0   \n",
       "4      115        7922                   1                      11000.0   \n",
       "\n",
       "  prior_question_had_explanation  seconds solution time content type  \n",
       "0                            NaN                    0.0     question  \n",
       "1                          False                   57.0     question  \n",
       "2                          False                  118.0     question  \n",
       "3                          False                  131.0     question  \n",
       "4                          False                  138.0     question  "
      ]
     },
     "execution_count": 72,
     "metadata": {},
     "output_type": "execute_result"
    }
   ],
   "source": [
    "train_dt_copy.head()"
   ]
  },
  {
   "cell_type": "markdown",
   "id": "9a6563f7",
   "metadata": {},
   "source": [
    "### Для контента типа question добавим раздел теста"
   ]
  },
  {
   "cell_type": "code",
   "execution_count": 77,
   "id": "f2955e78",
   "metadata": {},
   "outputs": [],
   "source": [
    "traint_dt_copy_copy = train_dt_copy.copy()"
   ]
  },
  {
   "cell_type": "code",
   "execution_count": 82,
   "id": "0fd98339",
   "metadata": {},
   "outputs": [
    {
     "data": {
      "text/html": [
       "<div>\n",
       "<style scoped>\n",
       "    .dataframe tbody tr th:only-of-type {\n",
       "        vertical-align: middle;\n",
       "    }\n",
       "\n",
       "    .dataframe tbody tr th {\n",
       "        vertical-align: top;\n",
       "    }\n",
       "\n",
       "    .dataframe thead th {\n",
       "        text-align: right;\n",
       "    }\n",
       "</style>\n",
       "<table border=\"1\" class=\"dataframe\">\n",
       "  <thead>\n",
       "    <tr style=\"text-align: right;\">\n",
       "      <th></th>\n",
       "      <th>lecture_id</th>\n",
       "      <th>tag</th>\n",
       "      <th>part</th>\n",
       "      <th>type_of</th>\n",
       "    </tr>\n",
       "  </thead>\n",
       "  <tbody>\n",
       "  </tbody>\n",
       "</table>\n",
       "</div>"
      ],
      "text/plain": [
       "Empty DataFrame\n",
       "Columns: [lecture_id, tag, part, type_of]\n",
       "Index: []"
      ]
     },
     "execution_count": 82,
     "metadata": {},
     "output_type": "execute_result"
    }
   ],
   "source": [
    "lectures_dt[lectures_dt['lecture_id'] == 5692]"
   ]
  },
  {
   "cell_type": "code",
   "execution_count": 88,
   "id": "55629f54",
   "metadata": {},
   "outputs": [],
   "source": [
    "train_dt_copy['part'] = train_dt_copy['content_id'].map(lectures_dt['part'])"
   ]
  },
  {
   "cell_type": "code",
   "execution_count": 89,
   "id": "d20d725e",
   "metadata": {},
   "outputs": [
    {
     "data": {
      "text/html": [
       "<div>\n",
       "<style scoped>\n",
       "    .dataframe tbody tr th:only-of-type {\n",
       "        vertical-align: middle;\n",
       "    }\n",
       "\n",
       "    .dataframe tbody tr th {\n",
       "        vertical-align: top;\n",
       "    }\n",
       "\n",
       "    .dataframe thead th {\n",
       "        text-align: right;\n",
       "    }\n",
       "</style>\n",
       "<table border=\"1\" class=\"dataframe\">\n",
       "  <thead>\n",
       "    <tr style=\"text-align: right;\">\n",
       "      <th></th>\n",
       "      <th>user_id</th>\n",
       "      <th>content_id</th>\n",
       "      <th>answered_correctly</th>\n",
       "      <th>prior_question_elapsed_time</th>\n",
       "      <th>prior_question_had_explanation</th>\n",
       "      <th>seconds solution time</th>\n",
       "      <th>content type</th>\n",
       "      <th>part</th>\n",
       "    </tr>\n",
       "  </thead>\n",
       "  <tbody>\n",
       "    <tr>\n",
       "      <th>0</th>\n",
       "      <td>115</td>\n",
       "      <td>5692</td>\n",
       "      <td>1</td>\n",
       "      <td>NaN</td>\n",
       "      <td>NaN</td>\n",
       "      <td>0.0</td>\n",
       "      <td>question</td>\n",
       "      <td>NaN</td>\n",
       "    </tr>\n",
       "    <tr>\n",
       "      <th>1</th>\n",
       "      <td>115</td>\n",
       "      <td>5716</td>\n",
       "      <td>1</td>\n",
       "      <td>37000.0</td>\n",
       "      <td>False</td>\n",
       "      <td>57.0</td>\n",
       "      <td>question</td>\n",
       "      <td>NaN</td>\n",
       "    </tr>\n",
       "    <tr>\n",
       "      <th>2</th>\n",
       "      <td>115</td>\n",
       "      <td>128</td>\n",
       "      <td>1</td>\n",
       "      <td>55000.0</td>\n",
       "      <td>False</td>\n",
       "      <td>118.0</td>\n",
       "      <td>question</td>\n",
       "      <td>5.0</td>\n",
       "    </tr>\n",
       "    <tr>\n",
       "      <th>3</th>\n",
       "      <td>115</td>\n",
       "      <td>7860</td>\n",
       "      <td>1</td>\n",
       "      <td>19000.0</td>\n",
       "      <td>False</td>\n",
       "      <td>131.0</td>\n",
       "      <td>question</td>\n",
       "      <td>NaN</td>\n",
       "    </tr>\n",
       "    <tr>\n",
       "      <th>4</th>\n",
       "      <td>115</td>\n",
       "      <td>7922</td>\n",
       "      <td>1</td>\n",
       "      <td>11000.0</td>\n",
       "      <td>False</td>\n",
       "      <td>138.0</td>\n",
       "      <td>question</td>\n",
       "      <td>NaN</td>\n",
       "    </tr>\n",
       "  </tbody>\n",
       "</table>\n",
       "</div>"
      ],
      "text/plain": [
       "   user_id  content_id  answered_correctly  prior_question_elapsed_time  \\\n",
       "0      115        5692                   1                          NaN   \n",
       "1      115        5716                   1                      37000.0   \n",
       "2      115         128                   1                      55000.0   \n",
       "3      115        7860                   1                      19000.0   \n",
       "4      115        7922                   1                      11000.0   \n",
       "\n",
       "  prior_question_had_explanation  seconds solution time content type  part  \n",
       "0                            NaN                    0.0     question   NaN  \n",
       "1                          False                   57.0     question   NaN  \n",
       "2                          False                  118.0     question   5.0  \n",
       "3                          False                  131.0     question   NaN  \n",
       "4                          False                  138.0     question   NaN  "
      ]
     },
     "execution_count": 89,
     "metadata": {},
     "output_type": "execute_result"
    }
   ],
   "source": [
    "train_dt_copy.head()"
   ]
  },
  {
   "cell_type": "code",
   "execution_count": 98,
   "id": "1ac5c0ee",
   "metadata": {},
   "outputs": [],
   "source": [
    "def map_part_id_to_type(part_id):\n",
    "    if part_id is None:\n",
    "        return\n",
    "    elif part_id >= 1 and part_id <= 4:\n",
    "        return 'Listening'\n",
    "    elif part_id > 4 and part_id < 8:\n",
    "        return 'Reading'\n",
    "    else:\n",
    "        return"
   ]
  },
  {
   "cell_type": "code",
   "execution_count": 101,
   "id": "0dcbb56d",
   "metadata": {},
   "outputs": [],
   "source": [
    "train_dt_copy['part'] = train_dt_copy['part'].apply(map_part_id_to_type)"
   ]
  },
  {
   "cell_type": "code",
   "execution_count": 105,
   "id": "51188ca6",
   "metadata": {},
   "outputs": [
    {
     "data": {
      "text/html": [
       "<div>\n",
       "<style scoped>\n",
       "    .dataframe tbody tr th:only-of-type {\n",
       "        vertical-align: middle;\n",
       "    }\n",
       "\n",
       "    .dataframe tbody tr th {\n",
       "        vertical-align: top;\n",
       "    }\n",
       "\n",
       "    .dataframe thead th {\n",
       "        text-align: right;\n",
       "    }\n",
       "</style>\n",
       "<table border=\"1\" class=\"dataframe\">\n",
       "  <thead>\n",
       "    <tr style=\"text-align: right;\">\n",
       "      <th></th>\n",
       "      <th>prior_question_had_explanation</th>\n",
       "      <th>content type</th>\n",
       "      <th>part</th>\n",
       "    </tr>\n",
       "  </thead>\n",
       "  <tbody>\n",
       "    <tr>\n",
       "      <th>count</th>\n",
       "      <td>100837826</td>\n",
       "      <td>101230332</td>\n",
       "      <td>6427635</td>\n",
       "    </tr>\n",
       "    <tr>\n",
       "      <th>unique</th>\n",
       "      <td>2</td>\n",
       "      <td>2</td>\n",
       "      <td>2</td>\n",
       "    </tr>\n",
       "    <tr>\n",
       "      <th>top</th>\n",
       "      <td>True</td>\n",
       "      <td>question</td>\n",
       "      <td>Reading</td>\n",
       "    </tr>\n",
       "    <tr>\n",
       "      <th>freq</th>\n",
       "      <td>89685560</td>\n",
       "      <td>99271300</td>\n",
       "      <td>4155198</td>\n",
       "    </tr>\n",
       "  </tbody>\n",
       "</table>\n",
       "</div>"
      ],
      "text/plain": [
       "       prior_question_had_explanation content type     part\n",
       "count                       100837826    101230332  6427635\n",
       "unique                              2            2        2\n",
       "top                              True     question  Reading\n",
       "freq                         89685560     99271300  4155198"
      ]
     },
     "execution_count": 105,
     "metadata": {},
     "output_type": "execute_result"
    }
   ],
   "source": [
    "train_dt_copy.describe(include = {'object'})"
   ]
  },
  {
   "cell_type": "code",
   "execution_count": 109,
   "id": "159a6eec",
   "metadata": {},
   "outputs": [
    {
     "name": "stdout",
     "output_type": "stream",
     "text": [
      "<class 'pandas.core.frame.DataFrame'>\n",
      "RangeIndex: 101230332 entries, 0 to 101230331\n",
      "Data columns (total 8 columns):\n",
      " #   Column                          Dtype  \n",
      "---  ------                          -----  \n",
      " 0   user_id                         int64  \n",
      " 1   content_id                      int64  \n",
      " 2   answered_correctly              int64  \n",
      " 3   prior_question_elapsed_time     float64\n",
      " 4   prior_question_had_explanation  object \n",
      " 5   seconds solution time           int64  \n",
      " 6   content type                    object \n",
      " 7   part                            object \n",
      "dtypes: float64(1), int64(4), object(3)\n",
      "memory usage: 6.0+ GB\n"
     ]
    }
   ],
   "source": [
    "train_dt_copy.info()"
   ]
  },
  {
   "cell_type": "code",
   "execution_count": 108,
   "id": "9c193a26",
   "metadata": {},
   "outputs": [],
   "source": [
    "train_dt_copy['seconds solution time'] = train_dt_copy['seconds solution time'].astype(int)"
   ]
  },
  {
   "cell_type": "code",
   "execution_count": 111,
   "id": "10121edd",
   "metadata": {},
   "outputs": [],
   "source": [
    "train_dt_copy = train_dt_copy.fillna(0)"
   ]
  },
  {
   "cell_type": "code",
   "execution_count": 132,
   "id": "204a0bd4",
   "metadata": {},
   "outputs": [],
   "source": [
    "train_dt_copy['prior_question_elapsed_time'] = train_dt_copy['prior_question_elapsed_time'].astype(int)"
   ]
  },
  {
   "cell_type": "code",
   "execution_count": 117,
   "id": "32c9fd97",
   "metadata": {},
   "outputs": [],
   "source": [
    "train_dt_copy['prior_question_elapsed_time']  = round(train_dt_copy['prior_question_elapsed_time'] / 1000)"
   ]
  },
  {
   "cell_type": "code",
   "execution_count": 133,
   "id": "2ad2b765",
   "metadata": {},
   "outputs": [
    {
     "data": {
      "text/html": [
       "<div>\n",
       "<style scoped>\n",
       "    .dataframe tbody tr th:only-of-type {\n",
       "        vertical-align: middle;\n",
       "    }\n",
       "\n",
       "    .dataframe tbody tr th {\n",
       "        vertical-align: top;\n",
       "    }\n",
       "\n",
       "    .dataframe thead th {\n",
       "        text-align: right;\n",
       "    }\n",
       "</style>\n",
       "<table border=\"1\" class=\"dataframe\">\n",
       "  <thead>\n",
       "    <tr style=\"text-align: right;\">\n",
       "      <th></th>\n",
       "      <th>user_id</th>\n",
       "      <th>content_id</th>\n",
       "      <th>answered_correctly</th>\n",
       "      <th>prior_question_elapsed_time</th>\n",
       "      <th>prior_question_had_explanation</th>\n",
       "      <th>seconds solution time</th>\n",
       "      <th>content type</th>\n",
       "      <th>part</th>\n",
       "    </tr>\n",
       "  </thead>\n",
       "  <tbody>\n",
       "    <tr>\n",
       "      <th>0</th>\n",
       "      <td>115</td>\n",
       "      <td>5692</td>\n",
       "      <td>1</td>\n",
       "      <td>0</td>\n",
       "      <td>0</td>\n",
       "      <td>0</td>\n",
       "      <td>question</td>\n",
       "      <td>0</td>\n",
       "    </tr>\n",
       "    <tr>\n",
       "      <th>1</th>\n",
       "      <td>115</td>\n",
       "      <td>5716</td>\n",
       "      <td>1</td>\n",
       "      <td>37</td>\n",
       "      <td>False</td>\n",
       "      <td>57</td>\n",
       "      <td>question</td>\n",
       "      <td>0</td>\n",
       "    </tr>\n",
       "    <tr>\n",
       "      <th>2</th>\n",
       "      <td>115</td>\n",
       "      <td>128</td>\n",
       "      <td>1</td>\n",
       "      <td>55</td>\n",
       "      <td>False</td>\n",
       "      <td>118</td>\n",
       "      <td>question</td>\n",
       "      <td>Reading</td>\n",
       "    </tr>\n",
       "    <tr>\n",
       "      <th>3</th>\n",
       "      <td>115</td>\n",
       "      <td>7860</td>\n",
       "      <td>1</td>\n",
       "      <td>19</td>\n",
       "      <td>False</td>\n",
       "      <td>131</td>\n",
       "      <td>question</td>\n",
       "      <td>0</td>\n",
       "    </tr>\n",
       "    <tr>\n",
       "      <th>4</th>\n",
       "      <td>115</td>\n",
       "      <td>7922</td>\n",
       "      <td>1</td>\n",
       "      <td>11</td>\n",
       "      <td>False</td>\n",
       "      <td>138</td>\n",
       "      <td>question</td>\n",
       "      <td>0</td>\n",
       "    </tr>\n",
       "  </tbody>\n",
       "</table>\n",
       "</div>"
      ],
      "text/plain": [
       "   user_id  content_id  answered_correctly  prior_question_elapsed_time  \\\n",
       "0      115        5692                   1                            0   \n",
       "1      115        5716                   1                           37   \n",
       "2      115         128                   1                           55   \n",
       "3      115        7860                   1                           19   \n",
       "4      115        7922                   1                           11   \n",
       "\n",
       "  prior_question_had_explanation  seconds solution time content type     part  \n",
       "0                              0                      0     question        0  \n",
       "1                          False                     57     question        0  \n",
       "2                          False                    118     question  Reading  \n",
       "3                          False                    131     question        0  \n",
       "4                          False                    138     question        0  "
      ]
     },
     "execution_count": 133,
     "metadata": {},
     "output_type": "execute_result"
    }
   ],
   "source": [
    "train_dt_copy.head()"
   ]
  },
  {
   "cell_type": "code",
   "execution_count": 123,
   "id": "2c5c9650",
   "metadata": {},
   "outputs": [
    {
     "data": {
      "text/html": [
       "<div>\n",
       "<style scoped>\n",
       "    .dataframe tbody tr th:only-of-type {\n",
       "        vertical-align: middle;\n",
       "    }\n",
       "\n",
       "    .dataframe tbody tr th {\n",
       "        vertical-align: top;\n",
       "    }\n",
       "\n",
       "    .dataframe thead th {\n",
       "        text-align: right;\n",
       "    }\n",
       "</style>\n",
       "<table border=\"1\" class=\"dataframe\">\n",
       "  <thead>\n",
       "    <tr style=\"text-align: right;\">\n",
       "      <th></th>\n",
       "      <th>prior_question_had_explanation</th>\n",
       "      <th>content type</th>\n",
       "      <th>part</th>\n",
       "    </tr>\n",
       "  </thead>\n",
       "  <tbody>\n",
       "    <tr>\n",
       "      <th>count</th>\n",
       "      <td>6427635</td>\n",
       "      <td>6427635</td>\n",
       "      <td>6427635</td>\n",
       "    </tr>\n",
       "    <tr>\n",
       "      <th>unique</th>\n",
       "      <td>2</td>\n",
       "      <td>2</td>\n",
       "      <td>2</td>\n",
       "    </tr>\n",
       "    <tr>\n",
       "      <th>top</th>\n",
       "      <td>True</td>\n",
       "      <td>question</td>\n",
       "      <td>Reading</td>\n",
       "    </tr>\n",
       "    <tr>\n",
       "      <th>freq</th>\n",
       "      <td>5695921</td>\n",
       "      <td>6391734</td>\n",
       "      <td>4155198</td>\n",
       "    </tr>\n",
       "  </tbody>\n",
       "</table>\n",
       "</div>"
      ],
      "text/plain": [
       "       prior_question_had_explanation content type     part\n",
       "count                         6427635      6427635  6427635\n",
       "unique                              2            2        2\n",
       "top                              True     question  Reading\n",
       "freq                          5695921      6391734  4155198"
      ]
     },
     "execution_count": 123,
     "metadata": {},
     "output_type": "execute_result"
    }
   ],
   "source": [
    "train_dt_copy[train_dt_copy['part'] != 0].describe(include = {'object'})"
   ]
  },
  {
   "cell_type": "markdown",
   "id": "6d7bc21c",
   "metadata": {},
   "source": [
    "#### Средняя скорость ответа"
   ]
  },
  {
   "cell_type": "code",
   "execution_count": 127,
   "id": "fcf13c8d",
   "metadata": {},
   "outputs": [
    {
     "data": {
      "text/plain": [
       "25"
      ]
     },
     "execution_count": 127,
     "metadata": {},
     "output_type": "execute_result"
    }
   ],
   "source": [
    "round(train_dt_copy['prior_question_elapsed_time'].mean())"
   ]
  },
  {
   "cell_type": "markdown",
   "id": "6c40205a",
   "metadata": {},
   "source": [
    "#### Наибольшая средняя скорость ответа на вопрос"
   ]
  },
  {
   "cell_type": "code",
   "execution_count": 141,
   "id": "1b52ab4d",
   "metadata": {},
   "outputs": [
    {
     "data": {
      "text/plain": [
       "21.0"
      ]
     },
     "execution_count": 141,
     "metadata": {},
     "output_type": "execute_result"
    }
   ],
   "source": [
    "#round(train_dt_copy[train_dt_copy['prior_question_elapsed_time'] > 0].max())\n",
    "train_dt_copy['prior_question_elapsed_time'].median()"
   ]
  },
  {
   "cell_type": "code",
   "execution_count": 149,
   "id": "f635f715",
   "metadata": {},
   "outputs": [
    {
     "data": {
      "text/plain": [
       "21.0"
      ]
     },
     "execution_count": 149,
     "metadata": {},
     "output_type": "execute_result"
    }
   ],
   "source": [
    "train_dt_copy['prior_question_elapsed_time'].quantile(0.5)"
   ]
  },
  {
   "cell_type": "code",
   "execution_count": 151,
   "id": "fe225fdf",
   "metadata": {},
   "outputs": [
    {
     "data": {
      "text/plain": [
       "98.0"
      ]
     },
     "execution_count": 151,
     "metadata": {},
     "output_type": "execute_result"
    }
   ],
   "source": [
    "train_dt_copy[train_dt_copy['prior_question_had_explanation'] == True]['prior_question_elapsed_time'].quantile(0.99)"
   ]
  },
  {
   "cell_type": "code",
   "execution_count": 152,
   "id": "a98ef90d",
   "metadata": {},
   "outputs": [
    {
     "data": {
      "text/plain": [
       "58.0"
      ]
     },
     "execution_count": 152,
     "metadata": {},
     "output_type": "execute_result"
    }
   ],
   "source": [
    "train_dt_copy[train_dt_copy['part'] == 'Reading']['prior_question_elapsed_time'].quantile(0.99)"
   ]
  },
  {
   "cell_type": "code",
   "execution_count": 153,
   "id": "8cbc7c03",
   "metadata": {},
   "outputs": [
    {
     "data": {
      "text/plain": [
       "59.0"
      ]
     },
     "execution_count": 153,
     "metadata": {},
     "output_type": "execute_result"
    }
   ],
   "source": [
    "train_dt_copy[train_dt_copy['part'] == 'Listening']['prior_question_elapsed_time'].quantile(0.99)"
   ]
  },
  {
   "cell_type": "code",
   "execution_count": 155,
   "id": "3a23efda",
   "metadata": {},
   "outputs": [
    {
     "data": {
      "text/plain": [
       "55.0"
      ]
     },
     "execution_count": 155,
     "metadata": {},
     "output_type": "execute_result"
    }
   ],
   "source": [
    "train_dt_copy[(train_dt_copy['part'] == 'Listening') & (train_dt_copy['prior_question_had_explanation'] == True)]['prior_question_elapsed_time'].quantile(0.99)"
   ]
  },
  {
   "cell_type": "code",
   "execution_count": 156,
   "id": "298fd32e",
   "metadata": {},
   "outputs": [
    {
     "data": {
      "text/plain": [
       "55.0"
      ]
     },
     "execution_count": 156,
     "metadata": {},
     "output_type": "execute_result"
    }
   ],
   "source": [
    "train_dt_copy[(train_dt_copy['part'] == 'Reading') & (train_dt_copy['prior_question_had_explanation'] == True)]['prior_question_elapsed_time'].quantile(0.99)"
   ]
  },
  {
   "cell_type": "code",
   "execution_count": 157,
   "id": "32a97a7c",
   "metadata": {},
   "outputs": [
    {
     "data": {
      "text/html": [
       "<div>\n",
       "<style scoped>\n",
       "    .dataframe tbody tr th:only-of-type {\n",
       "        vertical-align: middle;\n",
       "    }\n",
       "\n",
       "    .dataframe tbody tr th {\n",
       "        vertical-align: top;\n",
       "    }\n",
       "\n",
       "    .dataframe thead th {\n",
       "        text-align: right;\n",
       "    }\n",
       "</style>\n",
       "<table border=\"1\" class=\"dataframe\">\n",
       "  <thead>\n",
       "    <tr style=\"text-align: right;\">\n",
       "      <th></th>\n",
       "      <th>user_id</th>\n",
       "      <th>content_id</th>\n",
       "      <th>answered_correctly</th>\n",
       "      <th>prior_question_elapsed_time</th>\n",
       "      <th>prior_question_had_explanation</th>\n",
       "      <th>seconds solution time</th>\n",
       "      <th>content type</th>\n",
       "      <th>part</th>\n",
       "    </tr>\n",
       "  </thead>\n",
       "  <tbody>\n",
       "    <tr>\n",
       "      <th>0</th>\n",
       "      <td>115</td>\n",
       "      <td>5692</td>\n",
       "      <td>1</td>\n",
       "      <td>0</td>\n",
       "      <td>0</td>\n",
       "      <td>0</td>\n",
       "      <td>question</td>\n",
       "      <td>0</td>\n",
       "    </tr>\n",
       "    <tr>\n",
       "      <th>1</th>\n",
       "      <td>115</td>\n",
       "      <td>5716</td>\n",
       "      <td>1</td>\n",
       "      <td>37</td>\n",
       "      <td>False</td>\n",
       "      <td>57</td>\n",
       "      <td>question</td>\n",
       "      <td>0</td>\n",
       "    </tr>\n",
       "    <tr>\n",
       "      <th>2</th>\n",
       "      <td>115</td>\n",
       "      <td>128</td>\n",
       "      <td>1</td>\n",
       "      <td>55</td>\n",
       "      <td>False</td>\n",
       "      <td>118</td>\n",
       "      <td>question</td>\n",
       "      <td>Reading</td>\n",
       "    </tr>\n",
       "    <tr>\n",
       "      <th>3</th>\n",
       "      <td>115</td>\n",
       "      <td>7860</td>\n",
       "      <td>1</td>\n",
       "      <td>19</td>\n",
       "      <td>False</td>\n",
       "      <td>131</td>\n",
       "      <td>question</td>\n",
       "      <td>0</td>\n",
       "    </tr>\n",
       "    <tr>\n",
       "      <th>4</th>\n",
       "      <td>115</td>\n",
       "      <td>7922</td>\n",
       "      <td>1</td>\n",
       "      <td>11</td>\n",
       "      <td>False</td>\n",
       "      <td>138</td>\n",
       "      <td>question</td>\n",
       "      <td>0</td>\n",
       "    </tr>\n",
       "  </tbody>\n",
       "</table>\n",
       "</div>"
      ],
      "text/plain": [
       "   user_id  content_id  answered_correctly  prior_question_elapsed_time  \\\n",
       "0      115        5692                   1                            0   \n",
       "1      115        5716                   1                           37   \n",
       "2      115         128                   1                           55   \n",
       "3      115        7860                   1                           19   \n",
       "4      115        7922                   1                           11   \n",
       "\n",
       "  prior_question_had_explanation  seconds solution time content type     part  \n",
       "0                              0                      0     question        0  \n",
       "1                          False                     57     question        0  \n",
       "2                          False                    118     question  Reading  \n",
       "3                          False                    131     question        0  \n",
       "4                          False                    138     question        0  "
      ]
     },
     "execution_count": 157,
     "metadata": {},
     "output_type": "execute_result"
    }
   ],
   "source": [
    "train_dt_copy.head()"
   ]
  },
  {
   "cell_type": "code",
   "execution_count": 160,
   "id": "866a57f0",
   "metadata": {},
   "outputs": [
    {
     "data": {
      "text/plain": [
       "1    65244627\n",
       "0    34026673\n",
       "Name: answered_correctly, dtype: int64"
      ]
     },
     "execution_count": 160,
     "metadata": {},
     "output_type": "execute_result"
    }
   ],
   "source": [
    "train_dt_copy[train_dt_copy['answered_correctly'] != -1]['answered_correctly'].value_counts()"
   ]
  },
  {
   "cell_type": "code",
   "execution_count": 166,
   "id": "4fb22bb1",
   "metadata": {},
   "outputs": [
    {
     "data": {
      "text/plain": [
       "0.6572355454194717"
      ]
     },
     "execution_count": 166,
     "metadata": {},
     "output_type": "execute_result"
    }
   ],
   "source": [
    "train_dt_copy[train_dt_copy['answered_correctly'] == 1]['answered_correctly'].shape[0] / train_dt_copy[train_dt_copy['answered_correctly'] != -1]['answered_correctly'].shape[0]"
   ]
  },
  {
   "cell_type": "code",
   "execution_count": 167,
   "id": "471e8b33",
   "metadata": {},
   "outputs": [
    {
     "data": {
      "text/plain": [
       "0.6731885043701572"
      ]
     },
     "execution_count": 167,
     "metadata": {},
     "output_type": "execute_result"
    }
   ],
   "source": [
    "train_dt_copy[(train_dt_copy['answered_correctly'] == 1) & (train_dt_copy['prior_question_had_explanation'] == True)]['answered_correctly'].shape[0] / train_dt_copy[(train_dt_copy['answered_correctly'] != -1) & (train_dt_copy['prior_question_had_explanation'] == True)]['answered_correctly'].shape[0]"
   ]
  },
  {
   "cell_type": "code",
   "execution_count": 168,
   "id": "d8a610e2",
   "metadata": {},
   "outputs": [
    {
     "data": {
      "text/plain": [
       "0.5079773705525082"
      ]
     },
     "execution_count": 168,
     "metadata": {},
     "output_type": "execute_result"
    }
   ],
   "source": [
    "train_dt_copy[(train_dt_copy['answered_correctly'] == 1) & (train_dt_copy['prior_question_had_explanation'] == False)]['answered_correctly'].shape[0] / train_dt_copy[(train_dt_copy['answered_correctly'] != -1) & (train_dt_copy['prior_question_had_explanation'] == False)]['answered_correctly'].shape[0]"
   ]
  },
  {
   "cell_type": "code",
   "execution_count": null,
   "id": "e2c40a57",
   "metadata": {},
   "outputs": [],
   "source": []
  },
  {
   "cell_type": "markdown",
   "id": "6276b5a4",
   "metadata": {},
   "source": [
    "### <span style='color:Blue'> Итог анализа: </span>\n",
    "\n",
    "1. Наибольший контект, представленный в процессе обучения - вопросы теста <br>\n",
    "2. На большинство вопросов получено разъяснение\n",
    "3. Наибольшее количество вопросов в тесте содержится в разделе: Чтение\n",
    "5. Наибольшее среднее время ответа на каждый вопрос - 5 минут\n",
    "6. Стандартное отклонение 21 секунда\n",
    "7. В 99% случаев среднее время ответа на вопрос меньше 96 секунд\n",
    "8. В 99% случаев среднее время ответа при разобранном предыдущем вопрос больше на 2 секунды\n",
    "9. В 99% случаев в тесте на чтение время ответа равно 58 секунд\n",
    "10. В 99% случаев в тесте на аудирование время ответа равно 59 секунд\n",
    "11. В 99% случаев время ответа на вопрос было на 4 секунды быстрее в аудировании и чтении, если был разобран список вопросов в предыдущем тесте\n",
    "12. Доля правильных ответов 65 процентов\n",
    "13. Доля правильных ответов после разъяснения предыдущего теста 67%\n",
    "14. Доля правильных ответов без разъяснения предыдущего теста 51%\n"
   ]
  },
  {
   "cell_type": "code",
   "execution_count": null,
   "id": "aa4540cd",
   "metadata": {},
   "outputs": [],
   "source": []
  }
 ],
 "metadata": {
  "kernelspec": {
   "display_name": "Python 3 (ipykernel)",
   "language": "python",
   "name": "python3"
  },
  "language_info": {
   "codemirror_mode": {
    "name": "ipython",
    "version": 3
   },
   "file_extension": ".py",
   "mimetype": "text/x-python",
   "name": "python",
   "nbconvert_exporter": "python",
   "pygments_lexer": "ipython3",
   "version": "3.9.12"
  }
 },
 "nbformat": 4,
 "nbformat_minor": 5
}
